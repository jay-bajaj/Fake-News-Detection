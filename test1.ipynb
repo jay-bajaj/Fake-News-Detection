{
 "cells": [
  {
   "cell_type": "code",
   "execution_count": 1,
   "metadata": {
    "scrolled": false
   },
   "outputs": [],
   "source": [
    "import pandas as pd\n",
    "from utils import *\n",
    "import pickle\n",
    "import torch\n",
    "import pandas as pd\n",
    "from datasets import *\n",
    "from ConvS2S import *\n",
    "from Attention import *\n",
    "from Encoder import *\n",
    "# import numpy\n",
    "\n"
   ]
  },
  {
   "cell_type": "code",
   "execution_count": 3,
   "metadata": {},
   "outputs": [],
   "source": [
    "def test_word_embeddings(path_to_csv):\n",
    "  #File: utils.py\n",
    "  #Function: create_glove_dict()\n",
    "  word_embeddings = create_glove_dict(path_to_csv)\n",
    "  with open('utils/sample_test_cases_embeddings.pkl', 'rb') as f:\n",
    "    correct_embeddings = pickle.load(f)\n",
    "    assert (word_embeddings['spelled'] == correct_embeddings[0]).all()\n",
    "    assert (word_embeddings['witch'] == correct_embeddings[1]).all()\n",
    "    assert (word_embeddings['defencemen'] == correct_embeddings[2]).all()\n",
    "  print('Sample test cases passed')\n",
    "\n",
    "\n",
    "def test_get_max_length(path_to_tsv = 'train2.tsv'):\n",
    "  #File: utils.py\n",
    "  #Function: get_max_length()\n",
    "  df = pd.read_csv(path_to_tsv, sep = '\\t', header = None)\n",
    "  print(get_max_length(df.iloc[:100], 3))\n",
    "  assert get_max_length(df.iloc[:100], 3) == 39\n",
    "  print('Sample test case passed')\n",
    "\n",
    "def test_dataset(): \n",
    "  #File: datasets.py\n",
    "  #Class: dataset\n",
    "  #Function: __get_item__()\n",
    "  \n",
    "  sample_dataset = dataset(purpose = 'test_class')\n",
    "  with open('dataset/statements.pkl', 'rb') as f:\n",
    "    correct_statements = pickle.load(f)\n",
    "  with open('dataset/justifications.pkl', 'rb') as f:\n",
    "    correct_justifications = pickle.load(f)\n",
    "  with open('dataset/labels.pkl', 'rb') as f:\n",
    "    correct_labels = pickle.load(f)\n",
    "  i = 0\n",
    "  for _, data in enumerate(sample_dataset):\n",
    "    print(i)\n",
    "    assert (data['statement'].numpy() == correct_statements[i]).all()\n",
    "    assert (data['justification'].numpy() == correct_justifications[i]).all()\n",
    "    assert (data['label'].numpy() == correct_labels[i]).all()  \n",
    "    i = i + 1\n",
    "  print('Sample test cases passed')\n",
    "\n",
    "def test_get_convolutions():\n",
    "  #File: ConvS2S.py\n",
    "  #Class: ConvEncoder\n",
    "  #Function: get_convolutions()\n",
    "  conv_block = ConvEncoder(input_dim = 10, num_layers = 20)\n",
    "  with open('convs2s/conv_layers_in_channels.pkl', 'rb') as f:\n",
    "    input_specs = pickle.load(f)\n",
    "  with open('convs2s/conv_layers_out_channels.pkl', 'rb') as f:\n",
    "    output_specs = pickle.load(f)\n",
    "  with open('convs2s/conv_layers_paddings.pkl', 'rb') as f:\n",
    "    padding_specs = pickle.load(f)\n",
    "  i= 0\n",
    "  for layer in conv_block.convolutions:\n",
    "    assert layer.in_channels == input_specs[i]\n",
    "    assert layer.out_channels == output_specs[i]\n",
    "    assert layer.padding == padding_specs[i]\n",
    "    i = i  + 1\n",
    "  print('Sample test cases passed')\n",
    "\n",
    "def test_conv_block():\n",
    "  #File: ConvS2S.py\n",
    "  #Class: COnvEncoder\n",
    "  #Function: forward()\n",
    "  conv_block = ConvEncoder(input_dim = 10, num_layers = 5)\n",
    "  for param in conv_block.parameters():\n",
    "    torch.nn.init.constant(param, 1.)\n",
    "  correct_model = torch.load('convs2s/conv_encoder_block.pt')\n",
    "  input = torch.rand((20, 10, 3))\n",
    "  assert (conv_block(input).detach().numpy() == correct_model(input).detach().numpy()).all()\n",
    "  print('Sample Test Case passed.')\n",
    "\n",
    "def test_get_layers_pff():\n",
    "  #File: Attention.py\n",
    "  #Class: PositionFeedforward\n",
    "  #Function: get_layers()\n",
    "  pff = PositionFeedforward(5, 20)\n",
    "  correct_pff = torch.load('attention/pff.pt')\n",
    "  assert str(pff.conv1) == str(correct_pff.conv1)\n",
    "  assert str(pff.conv2) == str(correct_pff.conv2)\n",
    "  print(pff.conv2)\n",
    "  print('Sample test case Passed')\n",
    "\n",
    "def test_pff_forward():\n",
    "  #File: Attention.py\n",
    "  #Class: PositionFeedForward\n",
    "  #Function: forward()\n",
    "  pff = PositionFeedforward(5, 20)\n",
    "  for param in pff.parameters():\n",
    "    torch.nn.init.constant(param, 1.)\n",
    "  correct_pff = torch.load('attention/pff.pt')\n",
    "  input = torch.rand((20, 5, 3))\n",
    "  assert (pff(input).detach().numpy() == correct_pff(input).detach().numpy()).all()\n",
    "  print('Sample test cases passed')\n",
    "\n",
    "def test_get_layers_mha():\n",
    "  #File: Attention.py\n",
    "  #Class: MultiHeadAttention\n",
    "  #Function: get_layers()\n",
    "  mha = MultiHeadAttention(hid_dim = 256, n_heads = 16)\n",
    "  correct_mha = torch.load('attention/mha.pt')\n",
    "  assert str(correct_mha.conv_query) == str(mha.conv_query)\n",
    "  assert str(correct_mha.conv_key) == str(mha.conv_key)\n",
    "  assert str(correct_mha.conv_value) == str(mha.conv_value)\n",
    "  assert str(correct_mha.conv_output) == str(mha.conv_output)\n",
    "  print('Sample Test Cases Passed')\n",
    "\n",
    "def test_encoder_forward():\n",
    "  #File: Encoder.py\n",
    "  #Class: Encoder\n",
    "  #Function: forward() and __init__()\n",
    "  enc = Encoder(hidden_dim=32, conv_layers = 5)\n",
    "  enc_param_list = []\n",
    "  for param in enc.parameters():\n",
    "    torch.nn.init.constant(param, 1.)\n",
    "  correct_enc = torch.load('encoder/enc.pt')\n",
    "  input = torch.rand((64, 32, 3))\n",
    "  assert (enc(input).detach().numpy() == correct_enc(input).detach().numpy()).all()\n",
    "  print('Sample Test Cases Passed')\n"
   ]
  },
  {
   "cell_type": "code",
   "execution_count": 8,
   "metadata": {
    "scrolled": true
   },
   "outputs": [
    {
     "data": {
      "text/plain": [
       "'Health care reform legislation is likely to mandate free sex change surgeries.'"
      ]
     },
     "execution_count": 8,
     "metadata": {},
     "output_type": "execute_result"
    }
   ],
   "source": [
    "path = \"D:\\\\Downloads\\\\AssignmentFiles\\\\AssignmentFiles\\\\liar_dataset\\\\liar_dataset\\\\train2.tsv\"\n",
    "df = pd.read_csv(path, sep = '\\t', header = None)\n",
    "df\n",
    "df.iloc[3][3]"
   ]
  },
  {
   "cell_type": "code",
   "execution_count": 66,
   "metadata": {},
   "outputs": [
    {
     "name": "stdout",
     "output_type": "stream",
     "text": [
      "max_length = 0\n",
      "39\n",
      "max_length = 0\n",
      "Sample test case passed\n"
     ]
    }
   ],
   "source": [
    "path = \"D:\\\\Downloads\\\\AssignmentFiles\\\\AssignmentFiles\\\\liar_dataset\\\\liar_dataset\\\\train2.tsv\"\n",
    "test_get_max_length(path_to_tsv = path)"
   ]
  },
  {
   "cell_type": "code",
   "execution_count": 67,
   "metadata": {},
   "outputs": [
    {
     "ename": "NameError",
     "evalue": "name 'np' is not defined",
     "output_type": "error",
     "traceback": [
      "\u001b[1;31m---------------------------------------------------------------------------\u001b[0m",
      "\u001b[1;31mNameError\u001b[0m                                 Traceback (most recent call last)",
      "\u001b[1;32m<ipython-input-67-8548dd8318b8>\u001b[0m in \u001b[0;36m<module>\u001b[1;34m\u001b[0m\n\u001b[1;32m----> 1\u001b[1;33m \u001b[0md\u001b[0m\u001b[1;33m=\u001b[0m\u001b[0mdataset\u001b[0m\u001b[1;33m(\u001b[0m \u001b[1;34m'glove.6B.200d.txt'\u001b[0m\u001b[1;33m,\u001b[0m\u001b[1;36m200\u001b[0m\u001b[1;33m,\u001b[0m\u001b[1;34m'train'\u001b[0m\u001b[1;33m,\u001b[0m\u001b[1;34m'train_model'\u001b[0m\u001b[1;33m)\u001b[0m\u001b[1;33m\u001b[0m\u001b[1;33m\u001b[0m\u001b[0m\n\u001b[0m\u001b[0;32m      2\u001b[0m \u001b[1;31m# d.__getitem__(3)\u001b[0m\u001b[1;33m\u001b[0m\u001b[1;33m\u001b[0m\u001b[1;33m\u001b[0m\u001b[0m\n",
      "\u001b[1;32mD:\\Downloads\\AssignmentFiles\\AssignmentFiles\\datasets.py\u001b[0m in \u001b[0;36m__init__\u001b[1;34m(self, path_to_glove, embedding_dim, prep_Data_from, purpose)\u001b[0m\n\u001b[0;32m     45\u001b[0m         \u001b[0mval_Dataframe\u001b[0m \u001b[1;33m=\u001b[0m \u001b[0mpandas\u001b[0m\u001b[1;33m.\u001b[0m\u001b[0mread_csv\u001b[0m\u001b[1;33m(\u001b[0m\u001b[0mpath_to_val\u001b[0m\u001b[1;33m,\u001b[0m \u001b[0msep\u001b[0m\u001b[1;33m=\u001b[0m\u001b[1;34m'\\t'\u001b[0m\u001b[1;33m,\u001b[0m \u001b[0mheader\u001b[0m\u001b[1;33m=\u001b[0m\u001b[1;32mNone\u001b[0m\u001b[1;33m)\u001b[0m\u001b[1;33m.\u001b[0m\u001b[0mdropna\u001b[0m\u001b[1;33m(\u001b[0m\u001b[1;33m)\u001b[0m\u001b[1;33m\u001b[0m\u001b[1;33m\u001b[0m\u001b[0m\n\u001b[0;32m     46\u001b[0m \u001b[1;33m\u001b[0m\u001b[0m\n\u001b[1;32m---> 47\u001b[1;33m         \u001b[0mself\u001b[0m\u001b[1;33m.\u001b[0m\u001b[0membeddings\u001b[0m \u001b[1;33m=\u001b[0m \u001b[0mcreate_glove_dict\u001b[0m\u001b[1;33m(\u001b[0m\u001b[0mpath_to_glove\u001b[0m\u001b[1;33m)\u001b[0m\u001b[1;33m\u001b[0m\u001b[1;33m\u001b[0m\u001b[0m\n\u001b[0m\u001b[0;32m     48\u001b[0m         \u001b[0mself\u001b[0m\u001b[1;33m.\u001b[0m\u001b[0membedding_dim\u001b[0m \u001b[1;33m=\u001b[0m \u001b[0membedding_dim\u001b[0m\u001b[1;33m\u001b[0m\u001b[1;33m\u001b[0m\u001b[0m\n\u001b[0;32m     49\u001b[0m         \u001b[0mself\u001b[0m\u001b[1;33m.\u001b[0m\u001b[0mdataframe\u001b[0m \u001b[1;33m=\u001b[0m \u001b[0mpandas\u001b[0m\u001b[1;33m.\u001b[0m\u001b[0mconcat\u001b[0m\u001b[1;33m(\u001b[0m\u001b[1;33m[\u001b[0m\u001b[0mtrain_Dataframe\u001b[0m\u001b[1;33m,\u001b[0m \u001b[0mtest_Dataframe\u001b[0m\u001b[1;33m,\u001b[0m \u001b[0mval_Dataframe\u001b[0m\u001b[1;33m]\u001b[0m\u001b[1;33m)\u001b[0m\u001b[1;33m\u001b[0m\u001b[1;33m\u001b[0m\u001b[0m\n",
      "\u001b[1;32mD:\\Downloads\\AssignmentFiles\\AssignmentFiles\\utils.py\u001b[0m in \u001b[0;36mcreate_glove_dict\u001b[1;34m(path_to_text)\u001b[0m\n\u001b[0;32m     21\u001b[0m         \u001b[1;32mfor\u001b[0m \u001b[0mline\u001b[0m \u001b[1;32min\u001b[0m \u001b[0mfile\u001b[0m\u001b[1;33m:\u001b[0m\u001b[1;33m\u001b[0m\u001b[1;33m\u001b[0m\u001b[0m\n\u001b[0;32m     22\u001b[0m             \u001b[0mval\u001b[0m\u001b[1;33m=\u001b[0m\u001b[0mline\u001b[0m\u001b[1;33m.\u001b[0m\u001b[0msplit\u001b[0m\u001b[1;33m(\u001b[0m\u001b[1;33m)\u001b[0m\u001b[1;33m\u001b[0m\u001b[1;33m\u001b[0m\u001b[0m\n\u001b[1;32m---> 23\u001b[1;33m             \u001b[0mword\u001b[0m\u001b[1;33m=\u001b[0m\u001b[0mval\u001b[0m\u001b[1;33m[\u001b[0m\u001b[1;36m0\u001b[0m\u001b[1;33m]\u001b[0m\u001b[1;33m\u001b[0m\u001b[1;33m\u001b[0m\u001b[0m\n\u001b[0m\u001b[0;32m     24\u001b[0m             \u001b[0mvector\u001b[0m\u001b[1;33m=\u001b[0m\u001b[0mnumpy\u001b[0m\u001b[1;33m.\u001b[0m\u001b[0masarray\u001b[0m\u001b[1;33m(\u001b[0m\u001b[0mval\u001b[0m\u001b[1;33m[\u001b[0m\u001b[1;36m1\u001b[0m\u001b[1;33m:\u001b[0m\u001b[1;33m]\u001b[0m\u001b[1;33m,\u001b[0m\u001b[1;34m\"float64\"\u001b[0m\u001b[1;33m)\u001b[0m\u001b[1;33m\u001b[0m\u001b[1;33m\u001b[0m\u001b[0m\n\u001b[0;32m     25\u001b[0m             \u001b[0membeddings\u001b[0m\u001b[1;33m[\u001b[0m\u001b[0mword\u001b[0m\u001b[1;33m]\u001b[0m\u001b[1;33m=\u001b[0m\u001b[0mvector\u001b[0m\u001b[1;33m\u001b[0m\u001b[1;33m\u001b[0m\u001b[0m\n",
      "\u001b[1;31mNameError\u001b[0m: name 'np' is not defined"
     ]
    }
   ],
   "source": [
    "d=dataset( 'glove.6B.200d.txt',200,'train','train_model')\n",
    "# d.__getitem__(3)"
   ]
  },
  {
   "cell_type": "code",
   "execution_count": 68,
   "metadata": {},
   "outputs": [
    {
     "ename": "NameError",
     "evalue": "name 'np' is not defined",
     "output_type": "error",
     "traceback": [
      "\u001b[1;31m---------------------------------------------------------------------------\u001b[0m",
      "\u001b[1;31mNameError\u001b[0m                                 Traceback (most recent call last)",
      "\u001b[1;32m<ipython-input-68-6b6fffcbf93c>\u001b[0m in \u001b[0;36m<module>\u001b[1;34m\u001b[0m\n\u001b[1;32m----> 1\u001b[1;33m \u001b[0mtest_word_embeddings\u001b[0m\u001b[1;33m(\u001b[0m\u001b[1;34m'glove.6B.200d.txt'\u001b[0m\u001b[1;33m)\u001b[0m\u001b[1;33m\u001b[0m\u001b[1;33m\u001b[0m\u001b[0m\n\u001b[0m",
      "\u001b[1;32m<ipython-input-64-b1ec22c361c8>\u001b[0m in \u001b[0;36mtest_word_embeddings\u001b[1;34m(path_to_csv)\u001b[0m\n\u001b[0;32m      2\u001b[0m   \u001b[1;31m#File: utils.py\u001b[0m\u001b[1;33m\u001b[0m\u001b[1;33m\u001b[0m\u001b[1;33m\u001b[0m\u001b[0m\n\u001b[0;32m      3\u001b[0m   \u001b[1;31m#Function: create_glove_dict()\u001b[0m\u001b[1;33m\u001b[0m\u001b[1;33m\u001b[0m\u001b[1;33m\u001b[0m\u001b[0m\n\u001b[1;32m----> 4\u001b[1;33m   \u001b[0mword_embeddings\u001b[0m \u001b[1;33m=\u001b[0m \u001b[0mcreate_glove_dict\u001b[0m\u001b[1;33m(\u001b[0m\u001b[0mpath_to_csv\u001b[0m\u001b[1;33m)\u001b[0m\u001b[1;33m\u001b[0m\u001b[1;33m\u001b[0m\u001b[0m\n\u001b[0m\u001b[0;32m      5\u001b[0m   \u001b[1;32mwith\u001b[0m \u001b[0mopen\u001b[0m\u001b[1;33m(\u001b[0m\u001b[1;34m'utils/sample_test_cases_embeddings.pkl'\u001b[0m\u001b[1;33m,\u001b[0m \u001b[1;34m'rb'\u001b[0m\u001b[1;33m)\u001b[0m \u001b[1;32mas\u001b[0m \u001b[0mf\u001b[0m\u001b[1;33m:\u001b[0m\u001b[1;33m\u001b[0m\u001b[1;33m\u001b[0m\u001b[0m\n\u001b[0;32m      6\u001b[0m     \u001b[0mcorrect_embeddings\u001b[0m \u001b[1;33m=\u001b[0m \u001b[0mpickle\u001b[0m\u001b[1;33m.\u001b[0m\u001b[0mload\u001b[0m\u001b[1;33m(\u001b[0m\u001b[0mf\u001b[0m\u001b[1;33m)\u001b[0m\u001b[1;33m\u001b[0m\u001b[1;33m\u001b[0m\u001b[0m\n",
      "\u001b[1;32mD:\\Downloads\\AssignmentFiles\\AssignmentFiles\\utils.py\u001b[0m in \u001b[0;36mcreate_glove_dict\u001b[1;34m(path_to_text)\u001b[0m\n\u001b[0;32m     21\u001b[0m         \u001b[1;32mfor\u001b[0m \u001b[0mline\u001b[0m \u001b[1;32min\u001b[0m \u001b[0mfile\u001b[0m\u001b[1;33m:\u001b[0m\u001b[1;33m\u001b[0m\u001b[1;33m\u001b[0m\u001b[0m\n\u001b[0;32m     22\u001b[0m             \u001b[0mval\u001b[0m\u001b[1;33m=\u001b[0m\u001b[0mline\u001b[0m\u001b[1;33m.\u001b[0m\u001b[0msplit\u001b[0m\u001b[1;33m(\u001b[0m\u001b[1;33m)\u001b[0m\u001b[1;33m\u001b[0m\u001b[1;33m\u001b[0m\u001b[0m\n\u001b[1;32m---> 23\u001b[1;33m             \u001b[0mword\u001b[0m\u001b[1;33m=\u001b[0m\u001b[0mval\u001b[0m\u001b[1;33m[\u001b[0m\u001b[1;36m0\u001b[0m\u001b[1;33m]\u001b[0m\u001b[1;33m\u001b[0m\u001b[1;33m\u001b[0m\u001b[0m\n\u001b[0m\u001b[0;32m     24\u001b[0m             \u001b[0mvector\u001b[0m\u001b[1;33m=\u001b[0m\u001b[0mnumpy\u001b[0m\u001b[1;33m.\u001b[0m\u001b[0masarray\u001b[0m\u001b[1;33m(\u001b[0m\u001b[0mval\u001b[0m\u001b[1;33m[\u001b[0m\u001b[1;36m1\u001b[0m\u001b[1;33m:\u001b[0m\u001b[1;33m]\u001b[0m\u001b[1;33m,\u001b[0m\u001b[1;34m\"float64\"\u001b[0m\u001b[1;33m)\u001b[0m\u001b[1;33m\u001b[0m\u001b[1;33m\u001b[0m\u001b[0m\n\u001b[0;32m     25\u001b[0m             \u001b[0membeddings\u001b[0m\u001b[1;33m[\u001b[0m\u001b[0mword\u001b[0m\u001b[1;33m]\u001b[0m\u001b[1;33m=\u001b[0m\u001b[0mvector\u001b[0m\u001b[1;33m\u001b[0m\u001b[1;33m\u001b[0m\u001b[0m\n",
      "\u001b[1;31mNameError\u001b[0m: name 'np' is not defined"
     ]
    }
   ],
   "source": [
    "test_word_embeddings('glove.6B.200d.txt')"
   ]
  },
  {
   "cell_type": "code",
   "execution_count": 72,
   "metadata": {},
   "outputs": [
    {
     "name": "stdout",
     "output_type": "stream",
     "text": [
      "max_length = 0\n",
      "39\n",
      "max_length = 0\n",
      "Sample test case passed\n"
     ]
    }
   ],
   "source": [
    "test_get_max_length(path_to_tsv = 'train2.tsv')"
   ]
  },
  {
   "cell_type": "code",
   "execution_count": null,
   "metadata": {},
   "outputs": [],
   "source": []
  },
  {
   "cell_type": "code",
   "execution_count": null,
   "metadata": {},
   "outputs": [],
   "source": []
  }
 ],
 "metadata": {
  "kernelspec": {
   "display_name": "Python 3",
   "language": "python",
   "name": "python3"
  },
  "language_info": {
   "codemirror_mode": {
    "name": "ipython",
    "version": 3
   },
   "file_extension": ".py",
   "mimetype": "text/x-python",
   "name": "python",
   "nbconvert_exporter": "python",
   "pygments_lexer": "ipython3",
   "version": "3.8.3"
  }
 },
 "nbformat": 4,
 "nbformat_minor": 4
}
